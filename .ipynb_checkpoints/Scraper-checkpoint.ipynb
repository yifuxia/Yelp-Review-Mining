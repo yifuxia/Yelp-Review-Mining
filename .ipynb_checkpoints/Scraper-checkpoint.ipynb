{
 "cells": [
  {
   "cell_type": "code",
   "execution_count": null,
   "metadata": {
    "collapsed": false
   },
   "outputs": [
    {
     "name": "stdout",
     "output_type": "stream",
     "text": [
      "data_0.txt successfully dumped!\n",
      "data_20.txt successfully dumped!\n",
      "data_40.txt successfully dumped!\n",
      "data_60.txt successfully dumped!\n",
      "data_80.txt successfully dumped!\n",
      "data_100.txt successfully dumped!\n",
      "data_120.txt successfully dumped!\n",
      "data_140.txt successfully dumped!\n",
      "data_160.txt successfully dumped!\n",
      "data_180.txt successfully dumped!\n",
      "data_200.txt successfully dumped!\n",
      "data_220.txt successfully dumped!\n",
      "data_240.txt successfully dumped!\n",
      "data_260.txt successfully dumped!\n",
      "data_280.txt successfully dumped!\n",
      "data_300.txt successfully dumped!\n",
      "data_320.txt successfully dumped!\n",
      "data_340.txt successfully dumped!\n",
      "data_360.txt successfully dumped!\n",
      "data_380.txt successfully dumped!\n",
      "data_400.txt successfully dumped!\n",
      "data_420.txt successfully dumped!\n",
      "data_440.txt successfully dumped!\n",
      "data_460.txt successfully dumped!\n",
      "data_480.txt successfully dumped!\n",
      "data_500.txt successfully dumped!\n",
      "data_520.txt successfully dumped!\n",
      "data_540.txt successfully dumped!\n",
      "data_560.txt successfully dumped!\n",
      "data_580.txt successfully dumped!\n",
      "data_600.txt successfully dumped!\n",
      "data_620.txt successfully dumped!\n",
      "data_640.txt successfully dumped!"
     ]
    }
   ],
   "source": [
    "from bs4 import BeautifulSoup\n",
    "import urllib\n",
    "import json\n",
    "\n",
    "NUM_PAGES = 260\n",
    "\n",
    "for i in xrange(NUM_PAGES):\n",
    "    data=[]\n",
    "    url = 'https://www.yelp.com/biz/portos-bakery-and-cafe-burbank?start=' + str(i*20) \n",
    "    r = urllib.urlopen('https://www.yelp.com/biz/portos-bakery-and-cafe-burbank').read()\n",
    "    soup = BeautifulSoup(r,\"html.parser\")\n",
    "    reviews = soup.find_all(\"div\", class_=\"review review--with-sidebar\")\n",
    "    for review in reviews:\n",
    "        obj ={\n",
    "            'name':None,\n",
    "            'time':None,\n",
    "            'content':None\n",
    "        }\n",
    "        obj['name'] = review.find('a', class_='user-display-name').getText().encode('utf-8')  \n",
    "        obj['time'] = review.find(\"span\",class_='rating-qualifier').getText().encode('utf-8').strip()\n",
    "        obj['content'] = review.p.getText().encode('utf-8')\n",
    "        data.append(obj)\n",
    "    with open('data_'+str(i*20)+'.txt', 'w') as outfile:\n",
    "        json.dump(data, outfile)\n",
    "    print 'data_'+str(i*20)+'.txt'+' successfully dumped!'"
   ]
  },
  {
   "cell_type": "code",
   "execution_count": 46,
   "metadata": {
    "collapsed": false
   },
   "outputs": [],
   "source": [
    "reviews = soup.find_all(\"div\", class_=\"review review--with-sidebar\")"
   ]
  },
  {
   "cell_type": "code",
   "execution_count": 48,
   "metadata": {
    "collapsed": false
   },
   "outputs": [
    {
     "data": {
      "text/plain": [
       "'Nikki B.'"
      ]
     },
     "execution_count": 48,
     "metadata": {},
     "output_type": "execute_result"
    }
   ],
   "source": [
    "reviews[0].find('a', class_='user-display-name').getText().encode('utf-8')"
   ]
  },
  {
   "cell_type": "code",
   "execution_count": 26,
   "metadata": {
    "collapsed": false
   },
   "outputs": [
    {
     "data": {
      "text/plain": [
       "\"Yesterday, my BF said he had to go to Burbank. \\xc2\\xa0 He didn't visit Porto's! \\xc2\\xa0He didn't bring home potato balls. \\xc2\\xa0It was not his best moment. If you're in the neighborhood, don't miss Porto's. \\xc2\\xa0Stop by for a box of sweet and savory goodies. \\xc2\\xa0My faves: Potato balls, and rellenitos. \\xc2\\xa0 AND the CHEESE ROLLS. \\xc2\\xa0No more wheat, doctor's orders, but these are a last temptation. \\xc2\\xa0I miss the cheese rolls. \\xc2\\xa0A moment of silence for the cheese rolls........They have lots of great cuban food on the menu at amazingly low prices. \\xc2\\xa0I wonder how they can serve so much good food at such great prices. \\xc2\\xa0It must be the volume. \\xc2\\xa0This place is always abuzz, and by abuzz, I mean there is always a line - sometimes a line out the door and around the corner. \\xc2\\xa0It's worth the wait though, and the wait is surprisingly short. As chaotic as the three and a half lines look, and frankly, ARE, the restaurant runs efficiently. \\xc2\\xa0There's a line for dine in, and two for carry out: \\xc2\\xa0one for the bakery items, and another for espresso / coffee bar. \\xc2\\xa0There also seems to be a non-designated line at the end of the carry out food counter for picking up advanced orders.\""
      ]
     },
     "execution_count": 26,
     "metadata": {},
     "output_type": "execute_result"
    }
   ],
   "source": [
    "letters[0].p.getText().encode('utf-8')"
   ]
  },
  {
   "cell_type": "code",
   "execution_count": 30,
   "metadata": {
    "collapsed": false
   },
   "outputs": [
    {
     "data": {
      "text/plain": [
       "'12/8/2016'"
      ]
     },
     "execution_count": 30,
     "metadata": {},
     "output_type": "execute_result"
    }
   ],
   "source": [
    "letters[0].find(\"span\",class_='rating-qualifier').getText().encode('utf-8').strip()"
   ]
  },
  {
   "cell_type": "code",
   "execution_count": 55,
   "metadata": {
    "collapsed": false
   },
   "outputs": [],
   "source": []
  },
  {
   "cell_type": "code",
   "execution_count": null,
   "metadata": {
    "collapsed": true
   },
   "outputs": [],
   "source": []
  }
 ],
 "metadata": {
  "kernelspec": {
   "display_name": "Python 2",
   "language": "python",
   "name": "python2"
  },
  "language_info": {
   "codemirror_mode": {
    "name": "ipython",
    "version": 2
   },
   "file_extension": ".py",
   "mimetype": "text/x-python",
   "name": "python",
   "nbconvert_exporter": "python",
   "pygments_lexer": "ipython2",
   "version": "2.7.10"
  }
 },
 "nbformat": 4,
 "nbformat_minor": 0
}
