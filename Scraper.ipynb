{
 "cells": [
  {
   "cell_type": "code",
   "execution_count": null,
   "metadata": {
    "collapsed": false
   },
   "outputs": [],
   "source": [
    "from bs4 import BeautifulSoup\n",
    "import urllib\n",
    "import json\n",
    "\n",
    "NUM_PAGES = 260\n",
    "\n",
    "for i in xrange(NUM_PAGES):\n",
    "    data=[]\n",
    "    url = 'https://www.yelp.com/biz/portos-bakery-and-cafe-burbank?start=' + str(i*20) \n",
    "    r = urllib.urlopen(url).read()\n",
    "    soup = BeautifulSoup(r,\"html.parser\")\n",
    "    reviews = soup.find_all(\"div\", class_=\"review review--with-sidebar\")\n",
    "    for review in reviews:\n",
    "        obj ={\n",
    "            'name':None,\n",
    "            'time':None,\n",
    "            'content':None,\n",
    "            'rating':None\n",
    "        }\n",
    "        obj['name'] = review.find('a', class_='user-display-name').getText().encode('utf-8')  \n",
    "        obj['time'] = review.find(\"span\",class_='rating-qualifier').getText().encode('utf-8').strip()\n",
    "        obj['content'] = review.p.getText().encode('utf-8')\n",
    "        obj['rating'] = review.find('div', class_='i-stars')[\"title\"].encode('utf-8')\n",
    "        data.append(obj)\n",
    "    with open('data_'+str(i*20)+'.txt', 'w') as outfile:\n",
    "        json.dump(data, outfile)\n",
    "    print 'data_'+str(i*20)+'.txt'+' successfully dumped!'"
   ]
  },
  {
   "cell_type": "code",
   "execution_count": 62,
   "metadata": {
    "collapsed": false
   },
   "outputs": [
    {
     "name": "stdout",
     "output_type": "stream",
     "text": [
      "12/7/2016\n"
     ]
    },
    {
     "ename": "AttributeError",
     "evalue": "type object 'datetime.date' has no attribute 'strptime'",
     "output_type": "error",
     "traceback": [
      "\u001b[0;31m---------------------------------------------------------------------------\u001b[0m",
      "\u001b[0;31mAttributeError\u001b[0m                            Traceback (most recent call last)",
      "\u001b[0;32m<ipython-input-62-426632a1466c>\u001b[0m in \u001b[0;36m<module>\u001b[0;34m()\u001b[0m\n\u001b[1;32m     19\u001b[0m \u001b[0;32mfrom\u001b[0m \u001b[0mdatetime\u001b[0m \u001b[0;32mimport\u001b[0m \u001b[0mdate\u001b[0m\u001b[0;34m,\u001b[0m\u001b[0mdatetime\u001b[0m\u001b[0;34m\u001b[0m\u001b[0m\n\u001b[1;32m     20\u001b[0m \u001b[0;32mprint\u001b[0m \u001b[0mdata\u001b[0m\u001b[0;34m[\u001b[0m\u001b[0;36m1\u001b[0m\u001b[0;34m]\u001b[0m\u001b[0;34m[\u001b[0m\u001b[0;34m'time'\u001b[0m\u001b[0;34m]\u001b[0m\u001b[0;34m\u001b[0m\u001b[0m\n\u001b[0;32m---> 21\u001b[0;31m \u001b[0mdatetime_object\u001b[0m \u001b[0;34m=\u001b[0m \u001b[0mdate\u001b[0m\u001b[0;34m.\u001b[0m\u001b[0mstrptime\u001b[0m\u001b[0;34m(\u001b[0m\u001b[0mdata\u001b[0m\u001b[0;34m[\u001b[0m\u001b[0;36m1\u001b[0m\u001b[0;34m]\u001b[0m\u001b[0;34m[\u001b[0m\u001b[0;34m'time'\u001b[0m\u001b[0;34m]\u001b[0m\u001b[0;34m,\u001b[0m \u001b[0;34m'%m/%d/%Y'\u001b[0m\u001b[0;34m)\u001b[0m\u001b[0;34m\u001b[0m\u001b[0m\n\u001b[0m\u001b[1;32m     22\u001b[0m \u001b[0;32mprint\u001b[0m \u001b[0mdatetime_object\u001b[0m\u001b[0;34m\u001b[0m\u001b[0m\n\u001b[1;32m     23\u001b[0m \u001b[0;32mprint\u001b[0m \u001b[0mdatetime\u001b[0m\u001b[0;34m(\u001b[0m\u001b[0;36m2012\u001b[0m\u001b[0;34m,\u001b[0m\u001b[0;36m2\u001b[0m\u001b[0;34m,\u001b[0m\u001b[0;36m3\u001b[0m\u001b[0;34m)\u001b[0m\u001b[0;34m\u001b[0m\u001b[0m\n",
      "\u001b[0;31mAttributeError\u001b[0m: type object 'datetime.date' has no attribute 'strptime'"
     ]
    }
   ],
   "source": [
    "import re\n",
    "stopwords = set(['i', 'me', 'my', 'myself', 'we', 'our', 'ours', 'ourselves', 'you', 'your', 'yours',\n",
    "'yourself', 'yourselves', 'he', 'him', 'his', 'himself', 'she', 'her', 'hers',\n",
    "'herself', 'it', 'its', 'itself', 'they', 'them', 'their', 'theirs', 'themselves',\n",
    "'what', 'which', 'who', 'whom', 'this', 'that', 'these', 'those', 'am', 'is', 'are',\n",
    "'was', 'were', 'be', 'been', 'being', 'have', 'has', 'had', 'having', 'do', 'does',\n",
    "'did', 'doing', 'a', 'an', 'the', 'and', 'but', 'if', 'or', 'because', 'as', 'until',\n",
    "'while', 'of', 'at', 'by', 'for', 'with', 'about', 'against', 'between', 'into',\n",
    "'through', 'during', 'before', 'after', 'above', 'below', 'to', 'from', 'up', 'down',\n",
    "'in', 'out', 'on', 'off', 'over', 'under', 'again', 'further', 'then', 'once', 'here',\n",
    "'there', 'when', 'where', 'why', 'how', 'all', 'any', 'both', 'each', 'few', 'more',\n",
    "'most', 'other', 'some', 'such', 'no', 'nor', 'not', 'only', 'own', 'same', 'so',\n",
    "'than', 'too', 'very', 's', 't', 'can', 'will', 'just', 'don', 'should', 'now'])\n",
    "\n",
    "with open('data/data_0.txt') as data_file:    \n",
    "    data = json.load(data_file)\n",
    "\n",
    "\n",
    "from datetime import date,datetime\n",
    "print data[1]['time']\n",
    "datetime_object = datetime.strptime(data[1]['time'], '%m/%d/%Y')\n",
    "print datetime_object\n",
    "print datetime(2012,2,3) "
   ]
  },
  {
   "cell_type": "code",
   "execution_count": 33,
   "metadata": {
    "collapsed": false
   },
   "outputs": [],
   "source": [
    "from sklearn.feature_extraction.text import CountVectorizer"
   ]
  },
  {
   "cell_type": "code",
   "execution_count": 48,
   "metadata": {
    "collapsed": false,
    "scrolled": true
   },
   "outputs": [
    {
     "data": {
      "text/plain": [
       "'Nikki B.'"
      ]
     },
     "execution_count": 48,
     "metadata": {},
     "output_type": "execute_result"
    }
   ],
   "source": [
    "reviews[0].find('a', class_='user-display-name').getText().encode('utf-8')"
   ]
  },
  {
   "cell_type": "code",
   "execution_count": 9,
   "metadata": {
    "collapsed": false
   },
   "outputs": [
    {
     "data": {
      "text/plain": [
       "'5.0 star rating'"
      ]
     },
     "execution_count": 9,
     "metadata": {},
     "output_type": "execute_result"
    }
   ],
   "source": [
    "reviews[0].find('div', class_='i-stars')[\"title\"].encode('utf-8')"
   ]
  },
  {
   "cell_type": "code",
   "execution_count": 26,
   "metadata": {
    "collapsed": false
   },
   "outputs": [
    {
     "data": {
      "text/plain": [
       "\"Yesterday, my BF said he had to go to Burbank. \\xc2\\xa0 He didn't visit Porto's! \\xc2\\xa0He didn't bring home potato balls. \\xc2\\xa0It was not his best moment. If you're in the neighborhood, don't miss Porto's. \\xc2\\xa0Stop by for a box of sweet and savory goodies. \\xc2\\xa0My faves: Potato balls, and rellenitos. \\xc2\\xa0 AND the CHEESE ROLLS. \\xc2\\xa0No more wheat, doctor's orders, but these are a last temptation. \\xc2\\xa0I miss the cheese rolls. \\xc2\\xa0A moment of silence for the cheese rolls........They have lots of great cuban food on the menu at amazingly low prices. \\xc2\\xa0I wonder how they can serve so much good food at such great prices. \\xc2\\xa0It must be the volume. \\xc2\\xa0This place is always abuzz, and by abuzz, I mean there is always a line - sometimes a line out the door and around the corner. \\xc2\\xa0It's worth the wait though, and the wait is surprisingly short. As chaotic as the three and a half lines look, and frankly, ARE, the restaurant runs efficiently. \\xc2\\xa0There's a line for dine in, and two for carry out: \\xc2\\xa0one for the bakery items, and another for espresso / coffee bar. \\xc2\\xa0There also seems to be a non-designated line at the end of the carry out food counter for picking up advanced orders.\""
      ]
     },
     "execution_count": 26,
     "metadata": {},
     "output_type": "execute_result"
    }
   ],
   "source": [
    "letters[0].p.getText().encode('utf-8')"
   ]
  },
  {
   "cell_type": "code",
   "execution_count": 30,
   "metadata": {
    "collapsed": false
   },
   "outputs": [
    {
     "data": {
      "text/plain": [
       "'12/8/2016'"
      ]
     },
     "execution_count": 30,
     "metadata": {},
     "output_type": "execute_result"
    }
   ],
   "source": [
    "letters[0].find(\"span\",class_='rating-qualifier').getText().encode('utf-8').strip()"
   ]
  },
  {
   "cell_type": "code",
   "execution_count": 55,
   "metadata": {
    "collapsed": false
   },
   "outputs": [],
   "source": []
  },
  {
   "cell_type": "code",
   "execution_count": null,
   "metadata": {
    "collapsed": true
   },
   "outputs": [],
   "source": []
  }
 ],
 "metadata": {
  "kernelspec": {
   "display_name": "Python 2",
   "language": "python",
   "name": "python2"
  },
  "language_info": {
   "codemirror_mode": {
    "name": "ipython",
    "version": 2
   },
   "file_extension": ".py",
   "mimetype": "text/x-python",
   "name": "python",
   "nbconvert_exporter": "python",
   "pygments_lexer": "ipython2",
   "version": "2.7.10"
  }
 },
 "nbformat": 4,
 "nbformat_minor": 0
}
